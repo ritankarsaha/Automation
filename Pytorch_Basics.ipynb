{
  "nbformat": 4,
  "nbformat_minor": 0,
  "metadata": {
    "colab": {
      "provenance": [],
      "authorship_tag": "ABX9TyPL7L63oaLRodpfWBn7vo1Y",
      "include_colab_link": true
    },
    "kernelspec": {
      "name": "python3",
      "display_name": "Python 3"
    },
    "language_info": {
      "name": "python"
    }
  },
  "cells": [
    {
      "cell_type": "markdown",
      "metadata": {
        "id": "view-in-github",
        "colab_type": "text"
      },
      "source": [
        "<a href=\"https://colab.research.google.com/github/ritankarsaha/Automation/blob/main/Pytorch_Basics.ipynb\" target=\"_parent\"><img src=\"https://colab.research.google.com/assets/colab-badge.svg\" alt=\"Open In Colab\"/></a>"
      ]
    },
    {
      "cell_type": "code",
      "execution_count": 2,
      "metadata": {
        "colab": {
          "base_uri": "https://localhost:8080/"
        },
        "id": "SHh2IjFX6fv8",
        "outputId": "b951b977-9a8e-4015-e254-08b643153d81"
      },
      "outputs": [
        {
          "output_type": "stream",
          "name": "stdout",
          "text": [
            "tensor([[1., 1., 1., 1., 1., 1.],\n",
            "        [1., 1., 1., 1., 1., 1.],\n",
            "        [1., 1., 1., 1., 1., 1.],\n",
            "        [1., 1., 1., 1., 1., 1.],\n",
            "        [1., 1., 1., 1., 1., 1.]])\n",
            "tensor([6., 6., 6., 6., 6.])\n",
            "tensor([5., 5., 5., 5., 5., 5.])\n",
            "tensor([1., 1., 1., 1., 1., 1.])\n",
            "torch.Size([5, 1])\n",
            "torch.Size([5])\n",
            "5\n"
          ]
        }
      ],
      "source": [
        "import torch\n",
        "import torch.nn as nn\n",
        "\n",
        "#Tensor -  A matrix or an Array\n",
        "# They carry derivatives under the hood\n",
        "\n",
        "a = torch.ones(5,6)\n",
        "print(a)\n",
        "\n",
        "# sum() and the mean() function\n",
        "\n",
        "sum = torch.sum(a,axis =1) #for sum of rows\n",
        "sum1 = torch.sum(a,axis=0) #for sum of columns\n",
        "print(sum)\n",
        "print(sum1)\n",
        "mean =torch.mean(a,axis =0)\n",
        "print(mean)\n",
        "\n",
        "\n",
        "#squeeze() and unsqueeze() functions\n",
        "b = torch.ones(5,1)\n",
        "print(b.shape)\n",
        "squeezed = torch.squeeze(b)\n",
        "print(squeezed.shape)\n",
        "print(squeezed.shape[0])"
      ]
    },
    {
      "cell_type": "code",
      "source": [
        "# defining a Neural Network Model in Pytorch\n",
        "import torch\n",
        "import torch.nn as nn\n"
      ],
      "metadata": {
        "id": "fUW5Eo7oKaJS"
      },
      "execution_count": null,
      "outputs": []
    }
  ]
}